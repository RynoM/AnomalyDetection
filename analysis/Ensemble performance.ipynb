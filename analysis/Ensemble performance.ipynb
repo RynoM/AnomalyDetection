{
 "cells": [
  {
   "cell_type": "markdown",
   "metadata": {},
   "source": [
    "## Sequential and parallel ensemble performance"
   ]
  },
  {
   "cell_type": "code",
   "execution_count": 1,
   "metadata": {},
   "outputs": [],
   "source": [
    "import pandas as pd\n",
    "import numpy as np"
   ]
  },
  {
   "cell_type": "markdown",
   "metadata": {},
   "source": [
    "### Scoring and reading functions"
   ]
  },
  {
   "cell_type": "code",
   "execution_count": 2,
   "metadata": {},
   "outputs": [],
   "source": [
    "def append_anoms(csv_name, n):\n",
    "    data=[]\n",
    "    for i in range(0, n):\n",
    "        an = pd.read_csv(csv_name + str(i) + '.csv', index_col=[0])\n",
    "        an['anoms'] = i\n",
    "        data.append(an)\n",
    "    return pd.concat(data)"
   ]
  },
  {
   "cell_type": "code",
   "execution_count": 3,
   "metadata": {},
   "outputs": [],
   "source": [
    "def F1_performance(true_labels, pred_labels, length):\n",
    "    ''' Calculate F1-score based on the true and predicted labels.\n",
    "    Length of the original dataset is needed for FN. '''\n",
    "    \n",
    "    CM = pd.DataFrame({\"pred_T\": {\"label_T\": len(set(true_labels) & set(pred_labels)), \n",
    "                                    \"label_F\": len(set(pred_labels) - set(true_labels))},\n",
    "                         \"pred_F\": {\"label_T\": len(set(true_labels) - set(pred_labels)),\n",
    "                                    \"label_F\": len(set(range(0, length)) - set(true_labels)- set(pred_labels))}}) \n",
    "    \n",
    "    recall = CM['pred_T']['label_T'] / (CM['pred_T']['label_T'] + CM['pred_F']['label_T'])\n",
    "    precision = CM['pred_T']['label_T'] / (CM['pred_T']['label_T'] + CM['pred_T']['label_F'])\n",
    "    print('recall: ', recall)\n",
    "    print('precision: ', precision)\n",
    "    F1 = 2 * (precision * recall) / (precision + recall)\n",
    "    return CM, F1"
   ]
  },
  {
   "cell_type": "markdown",
   "metadata": {},
   "source": [
    "### Load detected anomalies"
   ]
  },
  {
   "cell_type": "code",
   "execution_count": 4,
   "metadata": {},
   "outputs": [],
   "source": [
    "true_anoms = pd.read_csv('found anomalies/MV_fake-autocorr-anoms-test.csv', index_col=[0])"
   ]
  },
  {
   "cell_type": "code",
   "execution_count": 5,
   "metadata": {},
   "outputs": [],
   "source": [
    "twitter_anoms = append_anoms('found anomalies/twitter-anoms', 6)\n",
    "twitter_anoms['ix']=[pd.date_range('01-01-2018', periods=672*2, freq='H', normalize=True).get_loc(x) for x in twitter_anoms['timestamp']]"
   ]
  },
  {
   "cell_type": "code",
   "execution_count": 6,
   "metadata": {},
   "outputs": [],
   "source": [
    "ED_anoms = pd.read_csv('found anomalies/ED_anoms.csv', index_col=[0])\n",
    "UV_anoms = pd.read_csv('found anomalies/UV_anoms.csv', index_col=[0])\n",
    "MV_anoms = pd.read_csv('found anomalies/MV_anoms.csv', index_col=[0])"
   ]
  },
  {
   "cell_type": "markdown",
   "metadata": {},
   "source": [
    "### Overlap coefficients between different methods"
   ]
  },
  {
   "cell_type": "code",
   "execution_count": 7,
   "metadata": {},
   "outputs": [],
   "source": [
    "def overlap_coef(set1, set2):\n",
    "    ''' Calculate the overlap coefficient between two sets. '''\n",
    "    return len(set1 & set2)/min(len(set1), len(set2))"
   ]
  },
  {
   "cell_type": "code",
   "execution_count": 8,
   "metadata": {},
   "outputs": [
    {
     "data": {
      "text/plain": [
       "0.92"
      ]
     },
     "execution_count": 8,
     "metadata": {},
     "output_type": "execute_result"
    }
   ],
   "source": [
    "overlap_coef(set(UV_anoms['ix'].unique()), set(MV_anoms['0'].unique()))"
   ]
  },
  {
   "cell_type": "code",
   "execution_count": 9,
   "metadata": {},
   "outputs": [
    {
     "data": {
      "text/plain": [
       "0.8958333333333334"
      ]
     },
     "execution_count": 9,
     "metadata": {},
     "output_type": "execute_result"
    }
   ],
   "source": [
    "overlap_coef(set(ED_anoms['ix'].unique()), set(MV_anoms['0'].unique()))"
   ]
  },
  {
   "cell_type": "code",
   "execution_count": 10,
   "metadata": {},
   "outputs": [
    {
     "data": {
      "text/plain": [
       "0.972972972972973"
      ]
     },
     "execution_count": 10,
     "metadata": {},
     "output_type": "execute_result"
    }
   ],
   "source": [
    "overlap_coef(set(twitter_anoms['ix'].unique()), set(MV_anoms['0'].unique()))"
   ]
  },
  {
   "cell_type": "markdown",
   "metadata": {},
   "source": [
    "### Performance of 'Ensembles'\n",
    "Taking either the union or intersection between the different sets."
   ]
  },
  {
   "cell_type": "code",
   "execution_count": 11,
   "metadata": {},
   "outputs": [
    {
     "name": "stdout",
     "output_type": "stream",
     "text": [
      "recall:  0.44\n",
      "precision:  1.0\n"
     ]
    },
    {
     "data": {
      "text/plain": [
       "(         pred_F  pred_T\n",
       " label_F     631       0\n",
       " label_T      42      33, 0.61111111111111116)"
      ]
     },
     "execution_count": 11,
     "metadata": {},
     "output_type": "execute_result"
    }
   ],
   "source": [
    "F1_performance(np.unique(true_anoms), set(twitter_anoms['ix'].unique()) & set(UV_anoms['ix'].unique()) & set(ED_anoms['ix'].unique()) & set(MV_anoms['0'].unique()), 672) #alpha 0.5+ is worse"
   ]
  }
 ],
 "metadata": {
  "kernelspec": {
   "display_name": "Python 3",
   "language": "python",
   "name": "python3"
  },
  "language_info": {
   "codemirror_mode": {
    "name": "ipython",
    "version": 3
   },
   "file_extension": ".py",
   "mimetype": "text/x-python",
   "name": "python",
   "nbconvert_exporter": "python",
   "pygments_lexer": "ipython3",
   "version": "3.6.4"
  }
 },
 "nbformat": 4,
 "nbformat_minor": 2
}
