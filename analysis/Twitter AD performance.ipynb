{
 "cells": [
  {
   "cell_type": "markdown",
   "metadata": {},
   "source": [
    "## Twitter S-H ESD algorithm performance"
   ]
  },
  {
   "cell_type": "code",
   "execution_count": 1,
   "metadata": {},
   "outputs": [],
   "source": [
    "import pandas as pd\n",
    "import numpy as np"
   ]
  },
  {
   "cell_type": "code",
   "execution_count": 2,
   "metadata": {},
   "outputs": [],
   "source": [
    "def append_anoms(csv_name, n):\n",
    "    ''' Function to concatenate detected anomaly streams from the R package. '''\n",
    "    data=[]\n",
    "    for i in range(0, n):\n",
    "        an = pd.read_csv(csv_name + str(i) + '.csv', index_col=[0])\n",
    "        an['anoms'] = i\n",
    "        data.append(an)\n",
    "    return pd.concat(data)"
   ]
  },
  {
   "cell_type": "code",
   "execution_count": 3,
   "metadata": {},
   "outputs": [],
   "source": [
    "true_anoms = pd.read_csv('found anomalies/MV_fake-autocorr-anoms-test.csv', index_col=[0])"
   ]
  },
  {
   "cell_type": "code",
   "execution_count": 4,
   "metadata": {},
   "outputs": [],
   "source": [
    "def F1_performance(true_labels, pred_labels, n_points, n_vars):\n",
    "    ''' Calculate the F1-score of a given solution. '''\n",
    "    \n",
    "    TP, FP, FN, TN = 0, 0, 0, 0\n",
    "    \n",
    "    for x in range(n_vars):\n",
    "        TP += len(set(true_labels[str(x)]) & set(pred_labels[pred_labels['anoms'] == x]['ix']))\n",
    "        FP += len(set(pred_labels[pred_labels['anoms'] == x]['ix']) - set(true_labels[str(x)]))\n",
    "        FN += len(set(true_labels[str(x)]) - set(pred_labels[pred_labels['anoms'] == x]['ix']))\n",
    "        TN += len(set(range(0, n_points)) - set(true_labels[str(x)])- set(pred_labels[pred_labels['anoms'] == x]['ix']))\n",
    "        \n",
    "    CM = pd.DataFrame({\"pred_T\": {\"label_T\": TP, \n",
    "                                    \"label_F\": FP},\n",
    "                         \"pred_F\": {\"label_T\": FN,\n",
    "                                    \"label_F\": TN}}) \n",
    "    \n",
    "    recall = CM['pred_T']['label_T'] / (CM['pred_T']['label_T'] + CM['pred_F']['label_T'])\n",
    "    precision = CM['pred_T']['label_T'] / (CM['pred_T']['label_T'] + CM['pred_T']['label_F'])\n",
    "    print('recall: ', recall)\n",
    "    print('predicion: ', precision)\n",
    "    F1 = 2 * (precision * recall) / (precision + recall)\n",
    "    return CM, F1"
   ]
  },
  {
   "cell_type": "code",
   "execution_count": 5,
   "metadata": {},
   "outputs": [],
   "source": [
    "twitter_anoms = append_anoms('found anomalies/twitter-anoms', 6)\n",
    "twitter_anoms['ix']=[pd.date_range('01-01-2018', periods=672*2, freq='H', normalize=True).get_loc(x) for x in twitter_anoms['timestamp']]"
   ]
  },
  {
   "cell_type": "code",
   "execution_count": 6,
   "metadata": {},
   "outputs": [
    {
     "name": "stdout",
     "output_type": "stream",
     "text": [
      "recall:  0.474358974359\n",
      "predicion:  1.0\n"
     ]
    },
    {
     "data": {
      "text/plain": [
       "(         pred_F  pred_T\n",
       " label_F    3988       0\n",
       " label_T      41      37, 0.64347826086956517)"
      ]
     },
     "execution_count": 6,
     "metadata": {},
     "output_type": "execute_result"
    }
   ],
   "source": [
    "#performance \n",
    "F1_performance(true_anoms, twitter_anoms, 672, 6)"
   ]
  }
 ],
 "metadata": {
  "kernelspec": {
   "display_name": "Python 3",
   "language": "python",
   "name": "python3"
  },
  "language_info": {
   "codemirror_mode": {
    "name": "ipython",
    "version": 3
   },
   "file_extension": ".py",
   "mimetype": "text/x-python",
   "name": "python",
   "nbconvert_exporter": "python",
   "pygments_lexer": "ipython3",
   "version": "3.6.4"
  }
 },
 "nbformat": 4,
 "nbformat_minor": 2
}
